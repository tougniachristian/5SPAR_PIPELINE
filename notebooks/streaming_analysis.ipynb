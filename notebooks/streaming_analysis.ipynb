{
 "cells": [
  {
   "cell_type": "code",
   "execution_count": null,
   "id": "3e1e77bb",
   "metadata": {},
   "outputs": [],
   "source": [
    "json_df.writeStream \\\n",
    "    .foreachBatch(lambda batch_df, batch_id: batch_df.write \\\n",
    "                  .format(\"jdbc\") \\\n",
    "                  .option(\"url\", \"jdbc:postgresql://db:5432/5SPAR\") \\\n",
    "                  .option(\"dbtable\", \"mastodon_stream\") \\\n",
    "                  .option(\"user\", \"myuser\") \\\n",
    "                  .option(\"password\", \"mysecretpassword\") \\\n",
    "                  .mode(\"append\") \\\n",
    "                  .save()) \\\n",
    "    .start() \\\n",
    "    .awaitTermination()\n"
   ]
  }
 ],
 "metadata": {
  "language_info": {
   "name": "python"
  }
 },
 "nbformat": 4,
 "nbformat_minor": 5
}
