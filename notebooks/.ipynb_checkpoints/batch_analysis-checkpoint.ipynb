{
 "cells": [
  {
   "cell_type": "code",
   "execution_count": null,
   "id": "ff0c6b00",
   "metadata": {},
   "outputs": [],
   "source": [
    "from pyspark.sql import SparkSession\n",
    "from pyspark.sql.functions import regexp_extract_all\n",
    "\n",
    "\n",
    "spark = SparkSession.builder \\\n",
    "    .appName(\"MastodonBatchAnalysis\") \\\n",
    "    .getOrCreate()\n",
    "\n",
    "df = spark.read \\\n",
    "    .format(\"jdbc\") \\\n",
    "    .option(\"url\", \"jdbc:postgresql://db:5432/5SPAR\") \\\n",
    "    .option(\"dbtable\", \"mastodon_stream\") \\\n",
    "    .option(\"user\", \"myuser\") \\\n",
    "    .option(\"password\", \"mysecretpassword\") \\\n",
    "    .load()\n",
    "\n",
    "\n",
    "# Filtrer utilisateurs actifs (>5 toots)\n",
    "active_users = df.groupBy(\"account\").count() \\\n",
    "    .filter(col(\"count\") > 5)\n",
    "\n",
    "# Extraire hashtags et compter\n",
    "\n",
    "df_hashtags = df.withColumn(\n",
    "    \"hashtags\",\n",
    "    regexp_extract_all(col(\"content\"), r\"#(\\w+)\")\n",
    ")\n",
    "\n",
    "# Top hashtags\n",
    "# (nécessite d'exploser le tableau et compter)"
   ]
  }
 ],
 "metadata": {
  "language_info": {
   "name": "python"
  }
 },
 "nbformat": 4,
 "nbformat_minor": 5
}
