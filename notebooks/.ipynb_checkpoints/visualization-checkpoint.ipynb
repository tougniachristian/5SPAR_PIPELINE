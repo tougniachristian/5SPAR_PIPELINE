{
 "cells": [
  {
   "cell_type": "code",
   "execution_count": null,
   "id": "51ddc1f5",
   "metadata": {},
   "outputs": [],
   "source": [
    "import psycopg2\n",
    "import pandas as pd\n",
    "import matplotlib.pyplot as plt\n",
    "import seaborn as sns\n",
    "\n",
    "conn = psycopg2.connect(\n",
    "    host=\"db\", database=\"5SPAR\",\n",
    "    user=\"myuser\", password=\"mysecretpassword\"\n",
    ")\n",
    "\n",
    "# 1. Distribution des sentiments\n",
    "query = \"\"\"\n",
    "SELECT sentiment, COUNT(*) as count \n",
    "FROM mastodon_sentiment \n",
    "GROUP BY sentiment\n",
    "\"\"\"\n",
    "sentiment_dist = pd.read_sql(query, conn)\n",
    "\n",
    "plt.figure(figsize=(8, 5))\n",
    "plt.bar(sentiment_dist['sentiment'], sentiment_dist['count'])\n",
    "plt.title('Distribution des sentiments')\n",
    "plt.show()\n",
    "\n",
    "# 2. Toots par heure\n",
    "query = \"\"\"\n",
    "SELECT EXTRACT(HOUR FROM created_at) as heure, COUNT(*) as count\n",
    "FROM mastodon_stream\n",
    "GROUP BY heure\n",
    "ORDER BY heure\n",
    "\"\"\"\n",
    "hourly = pd.read_sql(query, conn)\n",
    "\n",
    "plt.figure(figsize=(12, 5))\n",
    "plt.plot(hourly['heure'], hourly['count'], marker='o')\n",
    "plt.title('Nombre de toots par heure')\n",
    "plt.show()\n",
    "\n",
    "# 3. Top 10 comptes\n",
    "query = \"\"\"\n",
    "SELECT account, COUNT(*) as nb_toots\n",
    "FROM mastodon_stream\n",
    "GROUP BY account\n",
    "ORDER BY nb_toots DESC\n",
    "LIMIT 10\n",
    "\"\"\"\n",
    "top_accounts = pd.read_sql(query, conn)\n",
    "\n",
    "plt.figure(figsize=(10, 6))\n",
    "plt.barh(top_accounts['account'], top_accounts['nb_toots'])\n",
    "plt.title('Top 10 comptes actifs')\n",
    "plt.show()\n",
    "\n",
    "conn.close()"
   ]
  }
 ],
 "metadata": {
  "kernelspec": {
   "display_name": "Python 3 (ipykernel)",
   "language": "python",
   "name": "python3"
  },
  "language_info": {
   "codemirror_mode": {
    "name": "ipython",
    "version": 3
   },
   "file_extension": ".py",
   "mimetype": "text/x-python",
   "name": "python",
   "nbconvert_exporter": "python",
   "pygments_lexer": "ipython3",
   "version": "3.10.11"
  }
 },
 "nbformat": 4,
 "nbformat_minor": 5
}
