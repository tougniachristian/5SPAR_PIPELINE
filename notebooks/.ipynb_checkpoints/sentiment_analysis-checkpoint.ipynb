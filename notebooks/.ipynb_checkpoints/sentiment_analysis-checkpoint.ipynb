{
 "cells": [
  {
   "cell_type": "code",
   "execution_count": 1,
   "id": "ead630b9",
   "metadata": {},
   "outputs": [],
   "source": [
    "from pyspark.sql import SparkSession\n",
    "from pyspark.ml.feature import Tokenizer, StopWordsRemover, CountVectorizer, IDF\n",
    "from pyspark.ml.classification import LogisticRegression, NaiveBayes\n",
    "from pyspark.ml import Pipeline\n",
    "from pyspark.ml.evaluation import MulticlassClassificationEvaluator\n",
    "\n",
    "spark = SparkSession.builder \\\n",
    "    .appName(\"SentimentAnalysis\") \\\n",
    "    .config(\"spark.jars\", \"/usr/local/spark/jars/postgresql-42.6.0.jar\") \\\n",
    "    .getOrCreate()\n",
    "\n",
    "# Lire les données\n",
    "df = spark.read \\\n",
    "    .format(\"jdbc\") \\\n",
    "    .option(\"url\", \"jdbc:postgresql://db:5432/5SPAR\") \\\n",
    "    .option(\"dbtable\", \"mastodon_stream\") \\\n",
    "    .option(\"user\", \"myuser\") \\\n",
    "    .option(\"password\", \"mysecretpassword\") \\\n",
    "    .load()\n",
    "\n",
    "# Option 1 : Sentiment basique (positif si contient mots positifs)\n",
    "from pyspark.sql.functions import *\n",
    "\n",
    "positive_words = [\"love\", \"great\", \"good\", \"happy\", \"excellent\", \"amazing\"]\n",
    "negative_words = [\"hate\", \"bad\", \"terrible\", \"sad\", \"awful\", \"horrible\"]\n",
    "\n",
    "df_sentiment = df.withColumn(\n",
    "    \"sentiment\",\n",
    "    when(array_contains(split(lower(col(\"content\")), \" \"), \"love\") | \n",
    "         array_contains(split(lower(col(\"content\")), \" \"), \"great\"), \"positive\")\n",
    "    .when(array_contains(split(lower(col(\"content\")), \" \"), \"hate\") | \n",
    "          array_contains(split(lower(col(\"content\")), \" \"), \"bad\"), \"negative\")\n",
    "    .otherwise(\"neutral\")\n",
    ")\n",
    "\n",
    "# Sauvegarder dans une nouvelle table\n",
    "df_sentiment.write \\\n",
    "    .format(\"jdbc\") \\\n",
    "    .option(\"url\", \"jdbc:postgresql://db:5432/5SPAR\") \\\n",
    "    .option(\"dbtable\", \"mastodon_sentiment\") \\\n",
    "    .option(\"user\", \"myuser\") \\\n",
    "    .option(\"password\", \"mysecretpassword\") \\\n",
    "    .mode(\"overwrite\") \\\n",
    "    .save()"
   ]
  }
 ],
 "metadata": {
  "kernelspec": {
   "display_name": "Python 3 (ipykernel)",
   "language": "python",
   "name": "python3"
  },
  "language_info": {
   "codemirror_mode": {
    "name": "ipython",
    "version": 3
   },
   "file_extension": ".py",
   "mimetype": "text/x-python",
   "name": "python",
   "nbconvert_exporter": "python",
   "pygments_lexer": "ipython3",
   "version": "3.10.11"
  }
 },
 "nbformat": 4,
 "nbformat_minor": 5
}
